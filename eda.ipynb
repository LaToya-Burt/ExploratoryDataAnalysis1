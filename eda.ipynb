{
 "cells": [
  {
   "attachments": {},
   "cell_type": "markdown",
   "metadata": {},
   "source": [
    "### Explortory Data Analysis Part 1"
   ]
  },
  {
   "attachments": {},
   "cell_type": "markdown",
   "metadata": {},
   "source": [
    "I want to set up the proper imports so I have access to the Pandas, Matplotlib, and MySQL Connector Python libraries\n"
   ]
  },
  {
   "cell_type": "code",
   "execution_count": 23,
   "metadata": {},
   "outputs": [],
   "source": [
    "import pandas as pd\n",
    "import matplotlib.pyplot as plt\n",
    "import mysql.connector as connection"
   ]
  },
  {
   "attachments": {},
   "cell_type": "markdown",
   "metadata": {},
   "source": [
    "I want to use MySQL Connector to establish a connection to my remote data source\n"
   ]
  },
  {
   "cell_type": "code",
   "execution_count": 24,
   "metadata": {},
   "outputs": [
    {
     "name": "stderr",
     "output_type": "stream",
     "text": [
      "C:\\Users\\rac\\AppData\\Local\\Temp\\ipykernel_20620\\2575498146.py:3: UserWarning: pandas only supports SQLAlchemy connectable (engine/connection) or database string URI or sqlite3 DBAPI2 connection. Other DBAPI2 objects are not tested. Please consider using SQLAlchemy.\n",
      "  remote_df= pd.read_sql_query(select_query,myremotedb)\n"
     ]
    },
    {
     "data": {
      "text/html": [
       "<div>\n",
       "<style scoped>\n",
       "    .dataframe tbody tr th:only-of-type {\n",
       "        vertical-align: middle;\n",
       "    }\n",
       "\n",
       "    .dataframe tbody tr th {\n",
       "        vertical-align: top;\n",
       "    }\n",
       "\n",
       "    .dataframe thead th {\n",
       "        text-align: right;\n",
       "    }\n",
       "</style>\n",
       "<table border=\"1\" class=\"dataframe\">\n",
       "  <thead>\n",
       "    <tr style=\"text-align: right;\">\n",
       "      <th></th>\n",
       "      <th>Invoice_ID</th>\n",
       "      <th>Customer_Type</th>\n",
       "      <th>Gender</th>\n",
       "      <th>Product_Line</th>\n",
       "      <th>Unit_Price</th>\n",
       "      <th>Quantity</th>\n",
       "      <th>Sales_Tax</th>\n",
       "      <th>Total</th>\n",
       "      <th>Date</th>\n",
       "      <th>Time</th>\n",
       "      <th>Payment</th>\n",
       "      <th>COGS</th>\n",
       "      <th>Gross_Income</th>\n",
       "      <th>Rating</th>\n",
       "      <th>City_ID</th>\n",
       "    </tr>\n",
       "  </thead>\n",
       "  <tbody>\n",
       "    <tr>\n",
       "      <th>0</th>\n",
       "      <td>101-17-6199</td>\n",
       "      <td>Normal</td>\n",
       "      <td>Male</td>\n",
       "      <td>Food and beverages</td>\n",
       "      <td>45.79</td>\n",
       "      <td>7</td>\n",
       "      <td>None</td>\n",
       "      <td>336.5565</td>\n",
       "      <td>3/13/2019</td>\n",
       "      <td>19:44</td>\n",
       "      <td>Credit card</td>\n",
       "      <td>320.53</td>\n",
       "      <td>16.0265</td>\n",
       "      <td>7.0</td>\n",
       "      <td>1</td>\n",
       "    </tr>\n",
       "    <tr>\n",
       "      <th>1</th>\n",
       "      <td>101-81-4070</td>\n",
       "      <td>Member</td>\n",
       "      <td>Female</td>\n",
       "      <td>Health and beauty</td>\n",
       "      <td>62.82</td>\n",
       "      <td>2</td>\n",
       "      <td>None</td>\n",
       "      <td>131.9220</td>\n",
       "      <td>1/17/2019</td>\n",
       "      <td>12:36</td>\n",
       "      <td>Ewallet</td>\n",
       "      <td>125.64</td>\n",
       "      <td>6.2820</td>\n",
       "      <td>4.9</td>\n",
       "      <td>3</td>\n",
       "    </tr>\n",
       "    <tr>\n",
       "      <th>2</th>\n",
       "      <td>102-06-2002</td>\n",
       "      <td>Member</td>\n",
       "      <td>Male</td>\n",
       "      <td>Sports and travel</td>\n",
       "      <td>25.25</td>\n",
       "      <td>5</td>\n",
       "      <td>None</td>\n",
       "      <td>132.5625</td>\n",
       "      <td>3/20/2019</td>\n",
       "      <td>17:52</td>\n",
       "      <td>Cash</td>\n",
       "      <td>126.25</td>\n",
       "      <td>6.3125</td>\n",
       "      <td>6.1</td>\n",
       "      <td>3</td>\n",
       "    </tr>\n",
       "    <tr>\n",
       "      <th>3</th>\n",
       "      <td>102-77-2261</td>\n",
       "      <td>Member</td>\n",
       "      <td>Male</td>\n",
       "      <td>Health and beauty</td>\n",
       "      <td>65.31</td>\n",
       "      <td>7</td>\n",
       "      <td>None</td>\n",
       "      <td>480.0285</td>\n",
       "      <td>3/5/2019</td>\n",
       "      <td>18:02</td>\n",
       "      <td>Credit card</td>\n",
       "      <td>457.17</td>\n",
       "      <td>22.8585</td>\n",
       "      <td>4.2</td>\n",
       "      <td>3</td>\n",
       "    </tr>\n",
       "    <tr>\n",
       "      <th>4</th>\n",
       "      <td>105-10-6182</td>\n",
       "      <td>Member</td>\n",
       "      <td>Male</td>\n",
       "      <td>Fashion accessories</td>\n",
       "      <td>21.48</td>\n",
       "      <td>2</td>\n",
       "      <td>None</td>\n",
       "      <td>45.1080</td>\n",
       "      <td>2/27/2019</td>\n",
       "      <td>12:22</td>\n",
       "      <td>Ewallet</td>\n",
       "      <td>42.96</td>\n",
       "      <td>2.1480</td>\n",
       "      <td>6.6</td>\n",
       "      <td>1</td>\n",
       "    </tr>\n",
       "  </tbody>\n",
       "</table>\n",
       "</div>"
      ],
      "text/plain": [
       "    Invoice_ID Customer_Type  Gender         Product_Line  Unit_Price  \\\n",
       "0  101-17-6199        Normal    Male   Food and beverages       45.79   \n",
       "1  101-81-4070        Member  Female    Health and beauty       62.82   \n",
       "2  102-06-2002        Member    Male    Sports and travel       25.25   \n",
       "3  102-77-2261        Member    Male    Health and beauty       65.31   \n",
       "4  105-10-6182        Member    Male  Fashion accessories       21.48   \n",
       "\n",
       "   Quantity Sales_Tax     Total       Date   Time      Payment    COGS  \\\n",
       "0         7      None  336.5565  3/13/2019  19:44  Credit card  320.53   \n",
       "1         2      None  131.9220  1/17/2019  12:36      Ewallet  125.64   \n",
       "2         5      None  132.5625  3/20/2019  17:52         Cash  126.25   \n",
       "3         7      None  480.0285   3/5/2019  18:02  Credit card  457.17   \n",
       "4         2      None   45.1080  2/27/2019  12:22      Ewallet   42.96   \n",
       "\n",
       "   Gross_Income  Rating  City_ID  \n",
       "0       16.0265     7.0        1  \n",
       "1        6.2820     4.9        3  \n",
       "2        6.3125     6.1        3  \n",
       "3       22.8585     4.2        3  \n",
       "4        2.1480     6.6        1  "
      ]
     },
     "execution_count": 24,
     "metadata": {},
     "output_type": "execute_result"
    }
   ],
   "source": [
    "myremotedb=connection.connect(host=\"devcodecamp-mysql.c5p7yvjq1h8y.us-east-2.rds.amazonaws.com\", database=\"salesdb\", user=\"root\", password=\"D3v$tudent\",use_pure=\"True\")\n",
    "select_query=\"Select * from sales\"\n",
    "remote_df= pd.read_sql_query(select_query,myremotedb)\n",
    "remote_df.head()"
   ]
  },
  {
   "attachments": {},
   "cell_type": "markdown",
   "metadata": {},
   "source": [
    " I want to query my database to JOIN the information from the sales and cities tables together, and save the result as a single DataFrame variable.\n"
   ]
  },
  {
   "cell_type": "code",
   "execution_count": 25,
   "metadata": {},
   "outputs": [
    {
     "name": "stderr",
     "output_type": "stream",
     "text": [
      "C:\\Users\\rac\\AppData\\Local\\Temp\\ipykernel_20620\\1086496350.py:3: UserWarning: pandas only supports SQLAlchemy connectable (engine/connection) or database string URI or sqlite3 DBAPI2 connection. Other DBAPI2 objects are not tested. Please consider using SQLAlchemy.\n",
      "  joined_df= pd.read_sql(joinedquery, myremotedb)\n"
     ]
    },
    {
     "data": {
      "text/html": [
       "<div>\n",
       "<style scoped>\n",
       "    .dataframe tbody tr th:only-of-type {\n",
       "        vertical-align: middle;\n",
       "    }\n",
       "\n",
       "    .dataframe tbody tr th {\n",
       "        vertical-align: top;\n",
       "    }\n",
       "\n",
       "    .dataframe thead th {\n",
       "        text-align: right;\n",
       "    }\n",
       "</style>\n",
       "<table border=\"1\" class=\"dataframe\">\n",
       "  <thead>\n",
       "    <tr style=\"text-align: right;\">\n",
       "      <th></th>\n",
       "      <th>Invoice_ID</th>\n",
       "      <th>Customer_Type</th>\n",
       "      <th>Gender</th>\n",
       "      <th>Product_Line</th>\n",
       "      <th>Unit_Price</th>\n",
       "      <th>Quantity</th>\n",
       "      <th>Sales_Tax</th>\n",
       "      <th>Total</th>\n",
       "      <th>Date</th>\n",
       "      <th>Time</th>\n",
       "      <th>Payment</th>\n",
       "      <th>COGS</th>\n",
       "      <th>Gross_Income</th>\n",
       "      <th>Rating</th>\n",
       "      <th>City_ID</th>\n",
       "      <th>City_ID</th>\n",
       "      <th>City</th>\n",
       "    </tr>\n",
       "  </thead>\n",
       "  <tbody>\n",
       "    <tr>\n",
       "      <th>0</th>\n",
       "      <td>101-17-6199</td>\n",
       "      <td>Normal</td>\n",
       "      <td>Male</td>\n",
       "      <td>Food and beverages</td>\n",
       "      <td>45.79</td>\n",
       "      <td>7</td>\n",
       "      <td>None</td>\n",
       "      <td>336.5565</td>\n",
       "      <td>3/13/2019</td>\n",
       "      <td>19:44</td>\n",
       "      <td>Credit card</td>\n",
       "      <td>320.53</td>\n",
       "      <td>16.0265</td>\n",
       "      <td>7.0</td>\n",
       "      <td>1</td>\n",
       "      <td>1</td>\n",
       "      <td>Seattle</td>\n",
       "    </tr>\n",
       "    <tr>\n",
       "      <th>1</th>\n",
       "      <td>101-81-4070</td>\n",
       "      <td>Member</td>\n",
       "      <td>Female</td>\n",
       "      <td>Health and beauty</td>\n",
       "      <td>62.82</td>\n",
       "      <td>2</td>\n",
       "      <td>None</td>\n",
       "      <td>131.9220</td>\n",
       "      <td>1/17/2019</td>\n",
       "      <td>12:36</td>\n",
       "      <td>Ewallet</td>\n",
       "      <td>125.64</td>\n",
       "      <td>6.2820</td>\n",
       "      <td>4.9</td>\n",
       "      <td>3</td>\n",
       "      <td>3</td>\n",
       "      <td>Milwaukee</td>\n",
       "    </tr>\n",
       "    <tr>\n",
       "      <th>2</th>\n",
       "      <td>102-06-2002</td>\n",
       "      <td>Member</td>\n",
       "      <td>Male</td>\n",
       "      <td>Sports and travel</td>\n",
       "      <td>25.25</td>\n",
       "      <td>5</td>\n",
       "      <td>None</td>\n",
       "      <td>132.5625</td>\n",
       "      <td>3/20/2019</td>\n",
       "      <td>17:52</td>\n",
       "      <td>Cash</td>\n",
       "      <td>126.25</td>\n",
       "      <td>6.3125</td>\n",
       "      <td>6.1</td>\n",
       "      <td>3</td>\n",
       "      <td>3</td>\n",
       "      <td>Milwaukee</td>\n",
       "    </tr>\n",
       "    <tr>\n",
       "      <th>3</th>\n",
       "      <td>102-77-2261</td>\n",
       "      <td>Member</td>\n",
       "      <td>Male</td>\n",
       "      <td>Health and beauty</td>\n",
       "      <td>65.31</td>\n",
       "      <td>7</td>\n",
       "      <td>None</td>\n",
       "      <td>480.0285</td>\n",
       "      <td>3/5/2019</td>\n",
       "      <td>18:02</td>\n",
       "      <td>Credit card</td>\n",
       "      <td>457.17</td>\n",
       "      <td>22.8585</td>\n",
       "      <td>4.2</td>\n",
       "      <td>3</td>\n",
       "      <td>3</td>\n",
       "      <td>Milwaukee</td>\n",
       "    </tr>\n",
       "    <tr>\n",
       "      <th>4</th>\n",
       "      <td>105-10-6182</td>\n",
       "      <td>Member</td>\n",
       "      <td>Male</td>\n",
       "      <td>Fashion accessories</td>\n",
       "      <td>21.48</td>\n",
       "      <td>2</td>\n",
       "      <td>None</td>\n",
       "      <td>45.1080</td>\n",
       "      <td>2/27/2019</td>\n",
       "      <td>12:22</td>\n",
       "      <td>Ewallet</td>\n",
       "      <td>42.96</td>\n",
       "      <td>2.1480</td>\n",
       "      <td>6.6</td>\n",
       "      <td>1</td>\n",
       "      <td>1</td>\n",
       "      <td>Seattle</td>\n",
       "    </tr>\n",
       "  </tbody>\n",
       "</table>\n",
       "</div>"
      ],
      "text/plain": [
       "    Invoice_ID Customer_Type  Gender         Product_Line  Unit_Price  \\\n",
       "0  101-17-6199        Normal    Male   Food and beverages       45.79   \n",
       "1  101-81-4070        Member  Female    Health and beauty       62.82   \n",
       "2  102-06-2002        Member    Male    Sports and travel       25.25   \n",
       "3  102-77-2261        Member    Male    Health and beauty       65.31   \n",
       "4  105-10-6182        Member    Male  Fashion accessories       21.48   \n",
       "\n",
       "   Quantity Sales_Tax     Total       Date   Time      Payment    COGS  \\\n",
       "0         7      None  336.5565  3/13/2019  19:44  Credit card  320.53   \n",
       "1         2      None  131.9220  1/17/2019  12:36      Ewallet  125.64   \n",
       "2         5      None  132.5625  3/20/2019  17:52         Cash  126.25   \n",
       "3         7      None  480.0285   3/5/2019  18:02  Credit card  457.17   \n",
       "4         2      None   45.1080  2/27/2019  12:22      Ewallet   42.96   \n",
       "\n",
       "   Gross_Income  Rating  City_ID  City_ID       City  \n",
       "0       16.0265     7.0        1        1    Seattle  \n",
       "1        6.2820     4.9        3        3  Milwaukee  \n",
       "2        6.3125     6.1        3        3  Milwaukee  \n",
       "3       22.8585     4.2        3        3  Milwaukee  \n",
       "4        2.1480     6.6        1        1    Seattle  "
      ]
     },
     "execution_count": 25,
     "metadata": {},
     "output_type": "execute_result"
    }
   ],
   "source": [
    "joinedquery = \"\"\"SELECT * FROM sales JOIN cities ON sales.City_ID= cities.City_ID\"\"\"\n",
    "\n",
    "joined_df= pd.read_sql(joinedquery, myremotedb)\n",
    "joined_df.head()"
   ]
  },
  {
   "attachments": {},
   "cell_type": "markdown",
   "metadata": {},
   "source": [
    "I want to perform the necessary data cleaning and wrangling steps for my DataFrame.  This will include:\n",
    "Exploring the information of the joined DataFrame\n",
    "Checking for and removing null values, if necessary\n",
    "Checking for and removing duplicate rows, if necessary\n",
    "Converting any necessary columns to Pandas DateTime format\n"
   ]
  },
  {
   "cell_type": "code",
   "execution_count": 26,
   "metadata": {},
   "outputs": [
    {
     "name": "stdout",
     "output_type": "stream",
     "text": [
      "<class 'pandas.core.frame.DataFrame'>\n",
      "RangeIndex: 1000 entries, 0 to 999\n",
      "Data columns (total 17 columns):\n",
      " #   Column         Non-Null Count  Dtype  \n",
      "---  ------         --------------  -----  \n",
      " 0   Invoice_ID     1000 non-null   object \n",
      " 1   Customer_Type  1000 non-null   object \n",
      " 2   Gender         1000 non-null   object \n",
      " 3   Product_Line   1000 non-null   object \n",
      " 4   Unit_Price     1000 non-null   float64\n",
      " 5   Quantity       1000 non-null   int64  \n",
      " 6   Sales_Tax      0 non-null      object \n",
      " 7   Total          1000 non-null   float64\n",
      " 8   Date           1000 non-null   object \n",
      " 9   Time           1000 non-null   object \n",
      " 10  Payment        1000 non-null   object \n",
      " 11  COGS           1000 non-null   float64\n",
      " 12  Gross_Income   1000 non-null   float64\n",
      " 13  Rating         1000 non-null   float64\n",
      " 14  City_ID        1000 non-null   int64  \n",
      " 15  City_ID        1000 non-null   int64  \n",
      " 16  City           1000 non-null   object \n",
      "dtypes: float64(5), int64(3), object(9)\n",
      "memory usage: 132.9+ KB\n"
     ]
    }
   ],
   "source": [
    "joined_df.info()"
   ]
  },
  {
   "attachments": {},
   "cell_type": "markdown",
   "metadata": {},
   "source": [
    "Checking for Duplicates"
   ]
  },
  {
   "cell_type": "code",
   "execution_count": 27,
   "metadata": {},
   "outputs": [
    {
     "name": "stdout",
     "output_type": "stream",
     "text": [
      "<class 'pandas.core.frame.DataFrame'>\n",
      "RangeIndex: 1000 entries, 0 to 999\n",
      "Data columns (total 17 columns):\n",
      " #   Column         Non-Null Count  Dtype  \n",
      "---  ------         --------------  -----  \n",
      " 0   Invoice_ID     1000 non-null   object \n",
      " 1   Customer_Type  1000 non-null   object \n",
      " 2   Gender         1000 non-null   object \n",
      " 3   Product_Line   1000 non-null   object \n",
      " 4   Unit_Price     1000 non-null   float64\n",
      " 5   Quantity       1000 non-null   int64  \n",
      " 6   Sales_Tax      0 non-null      object \n",
      " 7   Total          1000 non-null   float64\n",
      " 8   Date           1000 non-null   object \n",
      " 9   Time           1000 non-null   object \n",
      " 10  Payment        1000 non-null   object \n",
      " 11  COGS           1000 non-null   float64\n",
      " 12  Gross_Income   1000 non-null   float64\n",
      " 13  Rating         1000 non-null   float64\n",
      " 14  City_ID        1000 non-null   int64  \n",
      " 15  City_ID        1000 non-null   int64  \n",
      " 16  City           1000 non-null   object \n",
      "dtypes: float64(5), int64(3), object(9)\n",
      "memory usage: 132.9+ KB\n"
     ]
    }
   ],
   "source": [
    "joined_df.duplicated().sort_values()\n",
    "joined_df.info()"
   ]
  },
  {
   "attachments": {},
   "cell_type": "markdown",
   "metadata": {},
   "source": [
    "Converting date column."
   ]
  },
  {
   "cell_type": "code",
   "execution_count": 28,
   "metadata": {},
   "outputs": [
    {
     "name": "stdout",
     "output_type": "stream",
     "text": [
      "<class 'pandas.core.frame.DataFrame'>\n",
      "RangeIndex: 1000 entries, 0 to 999\n",
      "Data columns (total 17 columns):\n",
      " #   Column         Non-Null Count  Dtype         \n",
      "---  ------         --------------  -----         \n",
      " 0   Invoice_ID     1000 non-null   object        \n",
      " 1   Customer_Type  1000 non-null   object        \n",
      " 2   Gender         1000 non-null   object        \n",
      " 3   Product_Line   1000 non-null   object        \n",
      " 4   Unit_Price     1000 non-null   float64       \n",
      " 5   Quantity       1000 non-null   int64         \n",
      " 6   Sales_Tax      0 non-null      object        \n",
      " 7   Total          1000 non-null   float64       \n",
      " 8   Date           1000 non-null   datetime64[ns]\n",
      " 9   Time           1000 non-null   object        \n",
      " 10  Payment        1000 non-null   object        \n",
      " 11  COGS           1000 non-null   float64       \n",
      " 12  Gross_Income   1000 non-null   float64       \n",
      " 13  Rating         1000 non-null   float64       \n",
      " 14  City_ID        1000 non-null   int64         \n",
      " 15  City_ID        1000 non-null   int64         \n",
      " 16  City           1000 non-null   object        \n",
      "dtypes: datetime64[ns](1), float64(5), int64(3), object(8)\n",
      "memory usage: 132.9+ KB\n"
     ]
    }
   ],
   "source": [
    "joined_df[\"Date\"]=pd.to_datetime(joined_df[\"Date\"])\n",
    "\n",
    "joined_df.info()"
   ]
  },
  {
   "attachments": {},
   "cell_type": "markdown",
   "metadata": {},
   "source": [
    "Removing Null"
   ]
  },
  {
   "attachments": {},
   "cell_type": "markdown",
   "metadata": {},
   "source": [
    "I want to explore my DataFrame to examine the spread of values across categories.  I will utilize this exploration to answer the following questions:\n",
    "How many sales were made for members vs. normal customers? 501 vs 499.\n",
    "\n",
    "How many sales were made at each store location? 340 in Settle, 332 in New York City, 328 Milwaukee.\n",
    "\n",
    "How many sales were made for each product line? Food and beverage 174, health and beauty 152, sports and travel 166, fashion accessories 178, home and lifestyle 160, electronic accessories 170.\n",
    "\n",
    "What is the overall average rating, based on all sales records? 6.97270\n",
    "\n"
   ]
  },
  {
   "cell_type": "markdown",
   "metadata": {},
   "source": [
    "I want to create three visualizations of my DataFrame to better understand any trends or patterns within my data set.  These charts will be a type of my choosing, and I can select which variables to analyze.  All three charts should contain the following:\n",
    "A chart title\n",
    "X-axis labels, if applicable\n",
    "Y-axis labels, if applicable\n"
   ]
  },
  {
   "cell_type": "code",
   "execution_count": 33,
   "metadata": {},
   "outputs": [
    {
     "data": {
      "text/plain": [
       "Text(0, 0.5, 'Quanity Sold')"
      ]
     },
     "execution_count": 33,
     "metadata": {},
     "output_type": "execute_result"
    },
    {
     "data": {
      "image/png": "[encoded data removed]",
      "text/plain": [
       "<Figure size 640x480 with 1 Axes>"
      ]
     },
     "metadata": {},
     "output_type": "display_data"
    }
   ],
   "source": [
    "item_value_counts=joined_df[\"Product_Line\"].value_counts()\n",
    "\n",
    "item_value_counts.plot(kind=\"bar\")\n",
    "\n",
    "plt.title(\"What the Company Sold\")\n",
    "plt.xlabel(\"Product Line\")\n",
    "plt.ylabel(\"Quanity Sold\")"
   ]
  },
  {
   "cell_type": "code",
   "execution_count": 36,
   "metadata": {},
   "outputs": [
    {
     "data": {
      "text/plain": [
       "Text(0, 0.5, '')"
      ]
     },
     "execution_count": 36,
     "metadata": {},
     "output_type": "execute_result"
    },
    {
     "data": {
      "image/png": "[encoded data removed]",
      "text/plain": [
       "<Figure size 640x480 with 1 Axes>"
      ]
     },
     "metadata": {},
     "output_type": "display_data"
    }
   ],
   "source": [
    "payment_types=joined_df[\"Payment\"].value_counts()\n",
    "payment_types.plot.pie();\n",
    "plt.title(\"Types of Payments\")\n",
    "plt.ylabel(\"\")"
   ]
  },
  {
   "cell_type": "code",
   "execution_count": 40,
   "metadata": {},
   "outputs": [
    {
     "data": {
      "text/plain": [
       "Text(0.5, 0, 'Cities')"
      ]
     },
     "execution_count": 40,
     "metadata": {},
     "output_type": "execute_result"
    },
    {
     "data": {
      "image/png": "[encoded data removed]",
      "text/plain": [
       "<Figure size 640x480 with 1 Axes>"
      ]
     },
     "metadata": {},
     "output_type": "display_data"
    }
   ],
   "source": [
    "joined_df.plot.box(column=\"Total\",by= \"City\")\n",
    "plt.title(\"Total By Cities\")\n",
    "plt.ylabel(\"Total Sold\")\n",
    "plt.xlabel(\"Cities\")"
   ]
  }
 ],
 "metadata": {
  "kernelspec": {
   "display_name": "Python 3",
   "language": "python",
   "name": "python3"
  },
  "language_info": {
   "codemirror_mode": {
    "name": "ipython",
    "version": 3
   },
   "file_extension": ".py",
   "mimetype": "text/x-python",
   "name": "python",
   "nbconvert_exporter": "python",
   "pygments_lexer": "ipython3",
   "version": "3.10.7"
  },
  "orig_nbformat": 4
 },
 "nbformat": 4,
 "nbformat_minor": 2
}
